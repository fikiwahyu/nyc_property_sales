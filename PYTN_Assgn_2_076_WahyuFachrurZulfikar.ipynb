{
 "cells": [
  {
   "cell_type": "markdown",
   "metadata": {},
   "source": [
    "<b>NEXTDEV</b> Digitalent Academy : Python Assignment 1 - Data Visualization<br>\n",
    "Lecture : <strong> Afif A.I. </strong> <br>\n",
    "code by : <strong>Wahyu Fachrur Zulfikar</strong>"
   ]
  },
  {
   "cell_type": "code",
   "execution_count": 85,
   "metadata": {},
   "outputs": [],
   "source": [
    "import numpy as numpy\n",
    "import pandas as pandas\n",
    "import matplotlib.pyplot as plt\n",
    "import statistics\n",
    "import scipy as scipy\n",
    "import scipy.stats as stats\n",
    "import seaborn as sns"
   ]
  },
  {
   "cell_type": "markdown",
   "metadata": {},
   "source": [
    "## <b>Data Cleansing</b>"
   ]
  },
  {
   "cell_type": "code",
   "execution_count": 86,
   "metadata": {},
   "outputs": [
    {
     "data": {
      "text/plain": [
       "(83783, 20)"
      ]
     },
     "execution_count": 86,
     "metadata": {},
     "output_type": "execute_result"
    }
   ],
   "source": [
    "nyc_rolling_sales = pandas.read_csv(\"dataset/nyc-rolling-sales.csv\")\n",
    "nyc_rolling_sales.drop(columns=[\"Unnamed: 0\",\"EASE-MENT\"], inplace=True)\n",
    "nyc_rolling_sales.drop_duplicates(inplace=True) #Sintax untuk menangani data duplikat\n",
    "nyc_rolling_sales.describe()\n",
    "nyc_rolling_sales.shape"
   ]
  },
  {
   "cell_type": "markdown",
   "metadata": {},
   "source": [
    "------------\n",
    "Terdapat beberapa data yang bisa dianggap sebagai data yang salah atau dapat juga dianggap sebagai outliner, antara lain:\n",
    "- Data dengan ZipCode 0\n",
    "- Data dengan tahun pembuatan 0\n",
    "- Data rumah dengan tahun pembuatan dibawah 1800\n",
    "- Data luas lahan rumah 0"
   ]
  },
  {
   "cell_type": "code",
   "execution_count": 87,
   "metadata": {},
   "outputs": [],
   "source": [
    "#Mengubah angka dengan tipe data \"string\" pada kolom ['LAND SQUARE FEET','GROSS SQUARE FEET', 'SALE PRICE', 'BOROUGH']\n",
    "#Mengubah isi kolom dalam variabel categ dari bentuk object menjadi bentuk category\n",
    "#mengubah isi kolom [\"SALE DATE\"] dari bentuk string menjadi tipe datetime\n",
    "\n",
    "numer = ['LAND SQUARE FEET','GROSS SQUARE FEET', 'SALE PRICE', 'BOROUGH']\n",
    "for col in numer:\n",
    "    nyc_rolling_sales[col] = pandas.to_numeric(nyc_rolling_sales[col], errors='coerce')\n",
    "\n",
    "categ = ['NEIGHBORHOOD', 'BUILDING CLASS CATEGORY', 'TAX CLASS AT PRESENT', 'BUILDING CLASS AT PRESENT', 'BUILDING CLASS AT TIME OF SALE', 'TAX CLASS AT TIME OF SALE']\n",
    "for col in categ:\n",
    "    nyc_rolling_sales[col] = nyc_rolling_sales[col].astype('category')\n",
    "    \n",
    "nyc_rolling_sales['SALE DATE'] = pandas.to_datetime(nyc_rolling_sales['SALE DATE'], errors='coerce')"
   ]
  },
  {
   "cell_type": "code",
   "execution_count": 88,
   "metadata": {},
   "outputs": [],
   "source": [
    "#Untuk membersihkan data, maka dilakukan dengan menggunakan variabel cond \n",
    "cond = ((nyc_rolling_sales[\"YEAR BUILT\"] > 1800) & \n",
    "        (nyc_rolling_sales[\"ZIP CODE\"] != 0) & \n",
    "        (nyc_rolling_sales[\"RESIDENTIAL UNITS\"] < 200) & \n",
    "        (nyc_rolling_sales[\"COMMERCIAL UNITS\"] < 200) & \n",
    "        (nyc_rolling_sales[\"GROSS SQUARE FEET\"] != 0) & \n",
    "        (nyc_rolling_sales[\"LAND SQUARE FEET\"] != 0) & \n",
    "        (nyc_rolling_sales[\"SALE PRICE\"] > 10000))\n",
    "nyc_rolling_sales = nyc_rolling_sales.loc[cond, :]"
   ]
  },
  {
   "cell_type": "code",
   "execution_count": 89,
   "metadata": {},
   "outputs": [
    {
     "data": {
      "text/html": [
       "<div>\n",
       "<style scoped>\n",
       "    .dataframe tbody tr th:only-of-type {\n",
       "        vertical-align: middle;\n",
       "    }\n",
       "\n",
       "    .dataframe tbody tr th {\n",
       "        vertical-align: top;\n",
       "    }\n",
       "\n",
       "    .dataframe thead th {\n",
       "        text-align: right;\n",
       "    }\n",
       "</style>\n",
       "<table border=\"1\" class=\"dataframe\">\n",
       "  <thead>\n",
       "    <tr style=\"text-align: right;\">\n",
       "      <th></th>\n",
       "      <th>BOROUGH</th>\n",
       "      <th>BLOCK</th>\n",
       "      <th>LOT</th>\n",
       "      <th>ZIP CODE</th>\n",
       "      <th>RESIDENTIAL UNITS</th>\n",
       "      <th>COMMERCIAL UNITS</th>\n",
       "      <th>TOTAL UNITS</th>\n",
       "      <th>LAND SQUARE FEET</th>\n",
       "      <th>GROSS SQUARE FEET</th>\n",
       "      <th>YEAR BUILT</th>\n",
       "      <th>SALE PRICE</th>\n",
       "    </tr>\n",
       "  </thead>\n",
       "  <tbody>\n",
       "    <tr>\n",
       "      <th>count</th>\n",
       "      <td>47300.000000</td>\n",
       "      <td>47300.000000</td>\n",
       "      <td>47300.000000</td>\n",
       "      <td>47300.000000</td>\n",
       "      <td>47300.000000</td>\n",
       "      <td>47300.000000</td>\n",
       "      <td>47300.000000</td>\n",
       "      <td>4.730000e+04</td>\n",
       "      <td>4.730000e+04</td>\n",
       "      <td>47300.000000</td>\n",
       "      <td>4.730000e+04</td>\n",
       "    </tr>\n",
       "    <tr>\n",
       "      <th>mean</th>\n",
       "      <td>2.999979</td>\n",
       "      <td>4307.507505</td>\n",
       "      <td>282.322516</td>\n",
       "      <td>10796.233975</td>\n",
       "      <td>1.664863</td>\n",
       "      <td>0.117674</td>\n",
       "      <td>1.788858</td>\n",
       "      <td>8.015177e+03</td>\n",
       "      <td>2.628629e+04</td>\n",
       "      <td>1948.315201</td>\n",
       "      <td>1.557619e+06</td>\n",
       "    </tr>\n",
       "    <tr>\n",
       "      <th>std</th>\n",
       "      <td>1.408634</td>\n",
       "      <td>3696.674564</td>\n",
       "      <td>571.247718</td>\n",
       "      <td>593.900164</td>\n",
       "      <td>5.592782</td>\n",
       "      <td>1.481337</td>\n",
       "      <td>5.838569</td>\n",
       "      <td>2.549765e+04</td>\n",
       "      <td>6.614408e+04</td>\n",
       "      <td>32.733179</td>\n",
       "      <td>1.309961e+07</td>\n",
       "    </tr>\n",
       "    <tr>\n",
       "      <th>min</th>\n",
       "      <td>1.000000</td>\n",
       "      <td>1.000000</td>\n",
       "      <td>1.000000</td>\n",
       "      <td>10001.000000</td>\n",
       "      <td>0.000000</td>\n",
       "      <td>0.000000</td>\n",
       "      <td>0.000000</td>\n",
       "      <td>1.680000e+02</td>\n",
       "      <td>1.200000e+02</td>\n",
       "      <td>1835.000000</td>\n",
       "      <td>1.000100e+04</td>\n",
       "    </tr>\n",
       "    <tr>\n",
       "      <th>25%</th>\n",
       "      <td>1.000000</td>\n",
       "      <td>1336.000000</td>\n",
       "      <td>19.000000</td>\n",
       "      <td>10075.000000</td>\n",
       "      <td>0.000000</td>\n",
       "      <td>0.000000</td>\n",
       "      <td>1.000000</td>\n",
       "      <td>2.214000e+03</td>\n",
       "      <td>1.660000e+03</td>\n",
       "      <td>1925.000000</td>\n",
       "      <td>4.050000e+05</td>\n",
       "    </tr>\n",
       "    <tr>\n",
       "      <th>50%</th>\n",
       "      <td>3.000000</td>\n",
       "      <td>3300.500000</td>\n",
       "      <td>43.000000</td>\n",
       "      <td>11204.000000</td>\n",
       "      <td>1.000000</td>\n",
       "      <td>0.000000</td>\n",
       "      <td>1.000000</td>\n",
       "      <td>3.148000e+03</td>\n",
       "      <td>2.880000e+03</td>\n",
       "      <td>1941.000000</td>\n",
       "      <td>6.450000e+05</td>\n",
       "    </tr>\n",
       "    <tr>\n",
       "      <th>75%</th>\n",
       "      <td>4.000000</td>\n",
       "      <td>6396.000000</td>\n",
       "      <td>118.000000</td>\n",
       "      <td>11365.000000</td>\n",
       "      <td>2.000000</td>\n",
       "      <td>0.000000</td>\n",
       "      <td>2.000000</td>\n",
       "      <td>5.310000e+03</td>\n",
       "      <td>1.580000e+04</td>\n",
       "      <td>1965.000000</td>\n",
       "      <td>1.100000e+06</td>\n",
       "    </tr>\n",
       "    <tr>\n",
       "      <th>max</th>\n",
       "      <td>5.000000</td>\n",
       "      <td>16319.000000</td>\n",
       "      <td>9002.000000</td>\n",
       "      <td>11694.000000</td>\n",
       "      <td>198.000000</td>\n",
       "      <td>172.000000</td>\n",
       "      <td>198.000000</td>\n",
       "      <td>3.014056e+06</td>\n",
       "      <td>1.617206e+06</td>\n",
       "      <td>2017.000000</td>\n",
       "      <td>2.210000e+09</td>\n",
       "    </tr>\n",
       "  </tbody>\n",
       "</table>\n",
       "</div>"
      ],
      "text/plain": [
       "            BOROUGH         BLOCK           LOT      ZIP CODE  \\\n",
       "count  47300.000000  47300.000000  47300.000000  47300.000000   \n",
       "mean       2.999979   4307.507505    282.322516  10796.233975   \n",
       "std        1.408634   3696.674564    571.247718    593.900164   \n",
       "min        1.000000      1.000000      1.000000  10001.000000   \n",
       "25%        1.000000   1336.000000     19.000000  10075.000000   \n",
       "50%        3.000000   3300.500000     43.000000  11204.000000   \n",
       "75%        4.000000   6396.000000    118.000000  11365.000000   \n",
       "max        5.000000  16319.000000   9002.000000  11694.000000   \n",
       "\n",
       "       RESIDENTIAL UNITS  COMMERCIAL UNITS   TOTAL UNITS  LAND SQUARE FEET  \\\n",
       "count       47300.000000      47300.000000  47300.000000      4.730000e+04   \n",
       "mean            1.664863          0.117674      1.788858      8.015177e+03   \n",
       "std             5.592782          1.481337      5.838569      2.549765e+04   \n",
       "min             0.000000          0.000000      0.000000      1.680000e+02   \n",
       "25%             0.000000          0.000000      1.000000      2.214000e+03   \n",
       "50%             1.000000          0.000000      1.000000      3.148000e+03   \n",
       "75%             2.000000          0.000000      2.000000      5.310000e+03   \n",
       "max           198.000000        172.000000    198.000000      3.014056e+06   \n",
       "\n",
       "       GROSS SQUARE FEET    YEAR BUILT    SALE PRICE  \n",
       "count       4.730000e+04  47300.000000  4.730000e+04  \n",
       "mean        2.628629e+04   1948.315201  1.557619e+06  \n",
       "std         6.614408e+04     32.733179  1.309961e+07  \n",
       "min         1.200000e+02   1835.000000  1.000100e+04  \n",
       "25%         1.660000e+03   1925.000000  4.050000e+05  \n",
       "50%         2.880000e+03   1941.000000  6.450000e+05  \n",
       "75%         1.580000e+04   1965.000000  1.100000e+06  \n",
       "max         1.617206e+06   2017.000000  2.210000e+09  "
      ]
     },
     "execution_count": 89,
     "metadata": {},
     "output_type": "execute_result"
    }
   ],
   "source": [
    "nyc_rolling_sales.fillna(method='ffill' , inplace=True)\n",
    "# nyc_rolling_sales.describe()\n",
    "nyc_rolling_sales[\"APARTMENT NUMBER\"]\n",
    "nyc_rolling_sales.describe()"
   ]
  },
  {
   "cell_type": "code",
   "execution_count": 90,
   "metadata": {},
   "outputs": [
    {
     "data": {
      "text/plain": [
       "<matplotlib.legend.Legend at 0x13cc09c7ca0>"
      ]
     },
     "execution_count": 90,
     "metadata": {},
     "output_type": "execute_result"
    },
    {
     "data": {
      "image/png": "[encoded data removed]",
      "text/plain": [
       "<Figure size 432x288 with 1 Axes>"
      ]
     },
     "metadata": {
      "needs_background": "light"
     },
     "output_type": "display_data"
    }
   ],
   "source": [
    "#menghitung jumlah rumah pada masing-masing distrik [\"BOROUGH\"]\n",
    "srs_borough = nyc_rolling_sales.loc[:,\"BOROUGH\"]\n",
    "axis_x = srs_borough.value_counts()\n",
    "plt.bar(axis_x.index, axis_x.values, label=\"BOROUGH\")\n",
    "plt.legend()"
   ]
  },
  {
   "cell_type": "markdown",
   "metadata": {},
   "source": [
    "## <b>Central Tendency</b>"
   ]
  },
  {
   "cell_type": "markdown",
   "metadata": {},
   "source": [
    "Pada case ini kita akan menggunakan data pada column [\"BOROUGH\"] untuk mencari data Central Tendency rerata, modus, dan median"
   ]
  },
  {
   "cell_type": "code",
   "execution_count": 91,
   "metadata": {},
   "outputs": [
    {
     "name": "stdout",
     "output_type": "stream",
     "text": [
      "Central Tendency [\"BOROUGH\"] dengan menggunakan rata-rata (mean)       :  2.9999788583509512\n",
      "Central Tendency [\"BOROUGH\"] dengan menggunakan modus (mode)           :  4\n",
      "Central Tendency [\"BOROUGH\"] dengan menggunakan nilai tengah (median)  :  3.0\n"
     ]
    }
   ],
   "source": [
    "#Melihat Central tendency pada Series [\"BOROUGH\"]\n",
    "print(\"Central Tendency [\\\"BOROUGH\\\"] dengan menggunakan rata-rata (mean)       : \", srs_borough.mean())\n",
    "print(\"Central Tendency [\\\"BOROUGH\\\"] dengan menggunakan modus (mode)           : \", stats.mode(srs_borough).mode[0])\n",
    "print(\"Central Tendency [\\\"BOROUGH\\\"] dengan menggunakan nilai tengah (median)  : \", srs_borough.median())"
   ]
  },
  {
   "cell_type": "markdown",
   "metadata": {},
   "source": [
    "## <b>Measure of Spread / Dispersion</b>"
   ]
  },
  {
   "cell_type": "markdown",
   "metadata": {},
   "source": [
    "Measure of spread yang akan kita gunakan untuk menganalisa Column [\"BOROUGH\"] adalah range, Variance dan Standart Deviation\n",
    "- range : Selisih dari nilai terbesar dan terkecil pada sautu data.\n",
    "- Standart Deviasi : Standard deviation/Simpangan baku adalah pengukuran jarak rata-rata antara setiap besaran dan mean.\n",
    "- Variance : Variance adalah kuadrat dari standar deviasi"
   ]
  },
  {
   "cell_type": "code",
   "execution_count": 92,
   "metadata": {},
   "outputs": [
    {
     "name": "stdout",
     "output_type": "stream",
     "text": [
      "Measure of Spread (Range) :  4\n",
      "Measure of Spread (Standart Deviasi) :  1.4086188937089077\n",
      "Measure of Spread (Variance) :  1.9842071877137073\n"
     ]
    }
   ],
   "source": [
    "print(\"Measure of Spread (Range) : \", numpy.ptp(srs_borough))\n",
    "print(\"Measure of Spread (Standart Deviasi) : \", statistics.pstdev(srs_borough))\n",
    "print(\"Measure of Spread (Variance) : \", statistics.pvariance(srs_borough))"
   ]
  },
  {
   "cell_type": "code",
   "execution_count": 93,
   "metadata": {},
   "outputs": [
    {
     "name": "stdout",
     "output_type": "stream",
     "text": [
      "Penghitungan skew dari Column [\"BOROUGH\"] :  -0.31611244012399115\n"
     ]
    }
   ],
   "source": [
    "print(\"Penghitungan skew dari Column [\\\"BOROUGH\\\"] : \", stats.skew(srs_borough)) #-0.31611244012399115"
   ]
  },
  {
   "cell_type": "markdown",
   "metadata": {},
   "source": [
    "> Hasil dari perhitungan nilai skew Column [\\\"BOROUGH\\\"] menunjukkan nilai negatif yang berarti skew yang dihasilkan oleh data ini adalah jenis <b> skew negative </b>"
   ]
  },
  {
   "cell_type": "code",
   "execution_count": 121,
   "metadata": {},
   "outputs": [
    {
     "name": "stderr",
     "output_type": "stream",
     "text": [
      "C:\\ProgramData\\Anaconda3\\lib\\site-packages\\seaborn\\distributions.py:2619: FutureWarning: `distplot` is a deprecated function and will be removed in a future version. Please adapt your code to use either `displot` (a figure-level function with similar flexibility) or `histplot` (an axes-level function for histograms).\n",
      "  warnings.warn(msg, FutureWarning)\n"
     ]
    },
    {
     "data": {
      "text/plain": [
       "[Text(0.5, 0, 'Binomial Distribution'), Text(0, 0.5, 'Frequency')]"
      ]
     },
     "execution_count": 121,
     "metadata": {},
     "output_type": "execute_result"
    },
    {
     "data": {
      "image/png": "[encoded data removed]",
      "text/plain": [
       "<Figure size 432x288 with 1 Axes>"
      ]
     },
     "metadata": {
      "needs_background": "light"
     },
     "output_type": "display_data"
    }
   ],
   "source": [
    "ax = sns.distplot(x = srs_borough.values,\n",
    "                    bins=5,\n",
    "                    kde=True,\n",
    "                    color='green',\n",
    "                    hist_kws={'linewidth':15, 'alpha':.5})\n",
    "ax.set(xlabel='Distribution', ylabel='Frequency')"
   ]
  },
  {
   "cell_type": "code",
   "execution_count": 108,
   "metadata": {},
   "outputs": [],
   "source": [
    "# Menghitung data penjualan rumah dengan tahun pembuatan <2000\n",
    "cond = (nyc_rolling_sales[\"YEAR BUILT\"] >= 1900) & (nyc_rolling_sales[\"YEAR BUILT\"] < 2000) & (nyc_rolling_sales[\"SALE PRICE\"] < 1.410052e+06)\n",
    "sales_yb19 = nyc_rolling_sales.loc[cond, \"YEAR BUILT\"]\n",
    "sales_price19 = nyc_rolling_sales.loc[cond, \"SALE PRICE\"]\n",
    "\n",
    "# Menghitung data penjualan rumah dengan tahun pembuatan >=2000\n",
    "cond = (nyc_rolling_sales[\"YEAR BUILT\"] >= 2000) & (nyc_rolling_sales[\"SALE PRICE\"] < 6.236678e+06)\n",
    "sales_yb20 = nyc_rolling_sales.loc[cond, \"YEAR BUILT\"]\n",
    "sales_price20 = nyc_rolling_sales.loc[cond, \"SALE PRICE\"]"
   ]
  },
  {
   "cell_type": "code",
   "execution_count": 185,
   "metadata": {},
   "outputs": [
    {
     "name": "stderr",
     "output_type": "stream",
     "text": [
      "C:\\ProgramData\\Anaconda3\\lib\\site-packages\\seaborn\\distributions.py:2619: FutureWarning: `distplot` is a deprecated function and will be removed in a future version. Please adapt your code to use either `displot` (a figure-level function with similar flexibility) or `histplot` (an axes-level function for histograms).\n",
      "  warnings.warn(msg, FutureWarning)\n"
     ]
    },
    {
     "data": {
      "text/plain": [
       "[Text(0.5, 0, 'Distribution'), Text(0, 0.5, 'Frequency')]"
      ]
     },
     "execution_count": 185,
     "metadata": {},
     "output_type": "execute_result"
    },
    {
     "data": {
      "image/png": "[encoded data removed]",
      "text/plain": [
       "<Figure size 432x288 with 1 Axes>"
      ]
     },
     "metadata": {
      "needs_background": "light"
     },
     "output_type": "display_data"
    }
   ],
   "source": [
    "ax = sns.distplot(x = sales_yb19.values,\n",
    "                    bins=50,\n",
    "                    kde=True,\n",
    "                    color='blue',\n",
    "                    hist_kws={'linewidth':15, 'alpha':.5})\n",
    "ax.set(xlabel='Distribution', ylabel='Frequency')"
   ]
  },
  {
   "cell_type": "code",
   "execution_count": 186,
   "metadata": {},
   "outputs": [
    {
     "name": "stderr",
     "output_type": "stream",
     "text": [
      "C:\\ProgramData\\Anaconda3\\lib\\site-packages\\seaborn\\distributions.py:2619: FutureWarning: `distplot` is a deprecated function and will be removed in a future version. Please adapt your code to use either `displot` (a figure-level function with similar flexibility) or `histplot` (an axes-level function for histograms).\n",
      "  warnings.warn(msg, FutureWarning)\n"
     ]
    },
    {
     "data": {
      "text/plain": [
       "[Text(0.5, 0, 'Distribution'), Text(0, 0.5, 'Frequency')]"
      ]
     },
     "execution_count": 186,
     "metadata": {},
     "output_type": "execute_result"
    },
    {
     "data": {
      "image/png": "[encoded data removed]",
      "text/plain": [
       "<Figure size 432x288 with 1 Axes>"
      ]
     },
     "metadata": {
      "needs_background": "light"
     },
     "output_type": "display_data"
    }
   ],
   "source": [
    "ax = sns.distplot(x = sales_yb20.values,\n",
    "                    bins=(sales_yb20.max() - sales_yb20.min()),\n",
    "                    kde=True,\n",
    "                    color='red',\n",
    "                    hist_kws={'linewidth':15, 'alpha':.5})\n",
    "ax.set(xlabel='Distribution', ylabel='Frequency')"
   ]
  },
  {
   "cell_type": "code",
   "execution_count": 137,
   "metadata": {},
   "outputs": [
    {
     "name": "stderr",
     "output_type": "stream",
     "text": [
      "C:\\ProgramData\\Anaconda3\\lib\\site-packages\\seaborn\\distributions.py:2619: FutureWarning: `distplot` is a deprecated function and will be removed in a future version. Please adapt your code to use either `displot` (a figure-level function with similar flexibility) or `histplot` (an axes-level function for histograms).\n",
      "  warnings.warn(msg, FutureWarning)\n"
     ]
    },
    {
     "data": {
      "text/plain": [
       "[Text(0.5, 0, 'Distribution'), Text(0, 0.5, 'Frequency')]"
      ]
     },
     "execution_count": 137,
     "metadata": {},
     "output_type": "execute_result"
    },
    {
     "data": {
      "image/png": "[encoded data removed]",
      "text/plain": [
       "<Figure size 432x288 with 1 Axes>"
      ]
     },
     "metadata": {
      "needs_background": "light"
     },
     "output_type": "display_data"
    }
   ],
   "source": [
    "ax = sns.distplot(x = sales_price19.values,\n",
    "                    bins=50,\n",
    "                    kde=True,\n",
    "                    color='blue',\n",
    "                    hist_kws={'linewidth':15, 'alpha':.5})\n",
    "ax.set(xlabel='Distribution', ylabel='Frequency')"
   ]
  },
  {
   "cell_type": "code",
   "execution_count": 136,
   "metadata": {},
   "outputs": [
    {
     "name": "stderr",
     "output_type": "stream",
     "text": [
      "C:\\ProgramData\\Anaconda3\\lib\\site-packages\\seaborn\\distributions.py:2619: FutureWarning: `distplot` is a deprecated function and will be removed in a future version. Please adapt your code to use either `displot` (a figure-level function with similar flexibility) or `histplot` (an axes-level function for histograms).\n",
      "  warnings.warn(msg, FutureWarning)\n"
     ]
    },
    {
     "data": {
      "text/plain": [
       "[Text(0.5, 0, 'Distribution'), Text(0, 0.5, 'Frequency')]"
      ]
     },
     "execution_count": 136,
     "metadata": {},
     "output_type": "execute_result"
    },
    {
     "data": {
      "image/png": "[encoded data removed]",
      "text/plain": [
       "<Figure size 432x288 with 1 Axes>"
      ]
     },
     "metadata": {
      "needs_background": "light"
     },
     "output_type": "display_data"
    }
   ],
   "source": [
    "ax = sns.distplot(x = sales_price20.values,\n",
    "                    bins=50,\n",
    "                    kde=True,\n",
    "                    color='blue',\n",
    "                    hist_kws={'linewidth':15, 'alpha':.5})\n",
    "ax.set(xlabel='Distribution', ylabel='Frequency')"
   ]
  },
  {
   "cell_type": "code",
   "execution_count": 123,
   "metadata": {},
   "outputs": [
    {
     "data": {
      "text/plain": [
       "583901.2435426523"
      ]
     },
     "execution_count": 123,
     "metadata": {},
     "output_type": "execute_result"
    }
   ],
   "source": [
    "sales_price19.mean()"
   ]
  },
  {
   "cell_type": "markdown",
   "metadata": {},
   "source": [
    "## <b>Hypothesis Statement</b>"
   ]
  },
  {
   "cell_type": "markdown",
   "metadata": {},
   "source": [
    "H0 : suatu asosiasi broker menyatakan bahwa rata-rata penjualan rumah di london pada tahun 2019 kurang dari $580.000 <br>\n",
    "H1 : Penjualan rumah di london pada tahun 2019 > $580.000"
   ]
  },
  {
   "cell_type": "code",
   "execution_count": 138,
   "metadata": {},
   "outputs": [
    {
     "name": "stderr",
     "output_type": "stream",
     "text": [
      "C:\\ProgramData\\Anaconda3\\lib\\site-packages\\seaborn\\distributions.py:2619: FutureWarning: `distplot` is a deprecated function and will be removed in a future version. Please adapt your code to use either `displot` (a figure-level function with similar flexibility) or `histplot` (an axes-level function for histograms).\n",
      "  warnings.warn(msg, FutureWarning)\n"
     ]
    },
    {
     "data": {
      "text/plain": [
       "[Text(0.5, 0, 'Distribution'), Text(0, 0.5, 'Frequency')]"
      ]
     },
     "execution_count": 138,
     "metadata": {},
     "output_type": "execute_result"
    },
    {
     "data": {
      "image/png": "[encoded data removed]",
      "text/plain": [
       "<Figure size 432x288 with 1 Axes>"
      ]
     },
     "metadata": {
      "needs_background": "light"
     },
     "output_type": "display_data"
    }
   ],
   "source": [
    "ax = sns.distplot(x = sales_price19.values,\n",
    "                    bins=50,\n",
    "                    kde=True,\n",
    "                    color='blue',\n",
    "                    hist_kws={'linewidth':15, 'alpha':.5})\n",
    "ax.set(xlabel='Distribution', ylabel='Frequency')"
   ]
  },
  {
   "cell_type": "markdown",
   "metadata": {},
   "source": [
    ">menetukan variabel untuk menguji hipotesis  <br>\n",
    ">hyp_mean = rata-rata dari sample yang diuji <br>\n",
    ">hyp_n = banyaknya data sample <br>\n",
    ">hyp_sdev = simpangan baku <br>\n",
    ">hyp_z95 = 1.96 untuk mendapatkan cofident level 95% <br>\n",
    ">hyp_z97 = 2.17 untuk mendapatkan cofident level 97% <br>\n",
    ">hyp_z99 = 3.29 untuk mendapatkan cofident level 99.9% <br>\n",
    "<br>\n",
    "asumsi yang digunakan pada analisa ini adalah menganggap bahwa persebaran data pada variabel `sales_price19` adalah mendedkati persebaran distribusi normal"
   ]
  },
  {
   "cell_type": "code",
   "execution_count": 182,
   "metadata": {},
   "outputs": [],
   "source": [
    "hyp_mean = sales_price19.mean() #583901\n",
    "hyp_n = sales_price19.count() #34031\n",
    "hyp_stdev = statistics.stdev(sales_price19) #307361\n",
    "hyp_z95 = -1.96\n",
    "hyp_z97 = -2.17\n",
    "hyp_z99 = -3.29"
   ]
  },
  {
   "cell_type": "code",
   "execution_count": 184,
   "metadata": {},
   "outputs": [
    {
     "data": {
      "text/plain": [
       "-9.662286189067018"
      ]
     },
     "execution_count": 184,
     "metadata": {},
     "output_type": "execute_result"
    }
   ],
   "source": [
    "z_res = (hyp_mean - 600000)/(hyp_stdev/numpy.sqrt(hyp_n))\n",
    "z_res #-9.662286189067018"
   ]
  },
  {
   "cell_type": "markdown",
   "metadata": {},
   "source": [
    "dikarenakan nilai z_res adalah <b>-9.6</b>, maka dapat dipastikan bahwa rata-rata harga penjualan rumah pada tahun pembuatan abad 19 adalah kurang dari <b> $600000 </b>dengan tingkat kepastian sebesar 99.9%. <br> <br>\n",
    "dapat disimpulkan bahwa sudah cukup untuk mengatakan bahwa rata-rata harga penjualan rumah yang dibangun pada abad 19 adalah kurang dari <b>$600000</b>"
   ]
  }
 ],
 "metadata": {
  "interpreter": {
   "hash": "b3ba2566441a7c06988d0923437866b63cedc61552a5af99d1f4fb67d367b25f"
  },
  "kernelspec": {
   "display_name": "Python 3.9.7 ('base')",
   "language": "python",
   "name": "python3"
  },
  "language_info": {
   "codemirror_mode": {
    "name": "ipython",
    "version": 3
   },
   "file_extension": ".py",
   "mimetype": "text/x-python",
   "name": "python",
   "nbconvert_exporter": "python",
   "pygments_lexer": "ipython3",
   "version": "3.9.7"
  },
  "orig_nbformat": 4
 },
 "nbformat": 4,
 "nbformat_minor": 2
}
